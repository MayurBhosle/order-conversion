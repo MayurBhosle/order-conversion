{
 "cells": [
  {
   "cell_type": "code",
   "execution_count": 1,
   "id": "6899c683",
   "metadata": {},
   "outputs": [],
   "source": [
    "import pandas as pd\n",
    "\n",
    "# dataset - https://www.kaggle.com/mkechinov/ecommerce-events-history-in-cosmetics-shop?select=2019-Nov.csv\n",
    "\n",
    "df=pd.read_csv('C:\\order-conversion\\\\2019-Nov.csv')"
   ]
  },
  {
   "cell_type": "code",
   "execution_count": 8,
   "id": "e1c4c5ab",
   "metadata": {
    "scrolled": true
   },
   "outputs": [
    {
     "data": {
      "text/plain": [
       "(4635837, 9)"
      ]
     },
     "execution_count": 8,
     "metadata": {},
     "output_type": "execute_result"
    }
   ],
   "source": [
    "df.shape"
   ]
  },
  {
   "cell_type": "code",
   "execution_count": 9,
   "id": "ed328032",
   "metadata": {},
   "outputs": [
    {
     "data": {
      "text/html": [
       "<div>\n",
       "<style scoped>\n",
       "    .dataframe tbody tr th:only-of-type {\n",
       "        vertical-align: middle;\n",
       "    }\n",
       "\n",
       "    .dataframe tbody tr th {\n",
       "        vertical-align: top;\n",
       "    }\n",
       "\n",
       "    .dataframe thead th {\n",
       "        text-align: right;\n",
       "    }\n",
       "</style>\n",
       "<table border=\"1\" class=\"dataframe\">\n",
       "  <thead>\n",
       "    <tr style=\"text-align: right;\">\n",
       "      <th></th>\n",
       "      <th>event_time</th>\n",
       "      <th>event_type</th>\n",
       "      <th>product_id</th>\n",
       "      <th>category_id</th>\n",
       "      <th>category_code</th>\n",
       "      <th>brand</th>\n",
       "      <th>price</th>\n",
       "      <th>user_id</th>\n",
       "      <th>user_session</th>\n",
       "    </tr>\n",
       "  </thead>\n",
       "  <tbody>\n",
       "    <tr>\n",
       "      <th>0</th>\n",
       "      <td>2019-11-01 00:00:02 UTC</td>\n",
       "      <td>view</td>\n",
       "      <td>5802432</td>\n",
       "      <td>1487580009286598681</td>\n",
       "      <td>NaN</td>\n",
       "      <td>NaN</td>\n",
       "      <td>0.32</td>\n",
       "      <td>562076640</td>\n",
       "      <td>09fafd6c-6c99-46b1-834f-33527f4de241</td>\n",
       "    </tr>\n",
       "    <tr>\n",
       "      <th>1</th>\n",
       "      <td>2019-11-01 00:00:09 UTC</td>\n",
       "      <td>cart</td>\n",
       "      <td>5844397</td>\n",
       "      <td>1487580006317032337</td>\n",
       "      <td>NaN</td>\n",
       "      <td>NaN</td>\n",
       "      <td>2.38</td>\n",
       "      <td>553329724</td>\n",
       "      <td>2067216c-31b5-455d-a1cc-af0575a34ffb</td>\n",
       "    </tr>\n",
       "    <tr>\n",
       "      <th>2</th>\n",
       "      <td>2019-11-01 00:00:10 UTC</td>\n",
       "      <td>view</td>\n",
       "      <td>5837166</td>\n",
       "      <td>1783999064103190764</td>\n",
       "      <td>NaN</td>\n",
       "      <td>pnb</td>\n",
       "      <td>22.22</td>\n",
       "      <td>556138645</td>\n",
       "      <td>57ed222e-a54a-4907-9944-5a875c2d7f4f</td>\n",
       "    </tr>\n",
       "    <tr>\n",
       "      <th>3</th>\n",
       "      <td>2019-11-01 00:00:11 UTC</td>\n",
       "      <td>cart</td>\n",
       "      <td>5876812</td>\n",
       "      <td>1487580010100293687</td>\n",
       "      <td>NaN</td>\n",
       "      <td>jessnail</td>\n",
       "      <td>3.16</td>\n",
       "      <td>564506666</td>\n",
       "      <td>186c1951-8052-4b37-adce-dd9644b1d5f7</td>\n",
       "    </tr>\n",
       "    <tr>\n",
       "      <th>4</th>\n",
       "      <td>2019-11-01 00:00:24 UTC</td>\n",
       "      <td>remove_from_cart</td>\n",
       "      <td>5826182</td>\n",
       "      <td>1487580007483048900</td>\n",
       "      <td>NaN</td>\n",
       "      <td>NaN</td>\n",
       "      <td>3.33</td>\n",
       "      <td>553329724</td>\n",
       "      <td>2067216c-31b5-455d-a1cc-af0575a34ffb</td>\n",
       "    </tr>\n",
       "    <tr>\n",
       "      <th>...</th>\n",
       "      <td>...</td>\n",
       "      <td>...</td>\n",
       "      <td>...</td>\n",
       "      <td>...</td>\n",
       "      <td>...</td>\n",
       "      <td>...</td>\n",
       "      <td>...</td>\n",
       "      <td>...</td>\n",
       "      <td>...</td>\n",
       "    </tr>\n",
       "    <tr>\n",
       "      <th>4635832</th>\n",
       "      <td>2019-11-30 23:59:46 UTC</td>\n",
       "      <td>view</td>\n",
       "      <td>5830317</td>\n",
       "      <td>1487580009496313889</td>\n",
       "      <td>NaN</td>\n",
       "      <td>NaN</td>\n",
       "      <td>4.76</td>\n",
       "      <td>457678989</td>\n",
       "      <td>ee50b160-a4db-4722-8751-6812c5b38295</td>\n",
       "    </tr>\n",
       "    <tr>\n",
       "      <th>4635833</th>\n",
       "      <td>2019-11-30 23:59:47 UTC</td>\n",
       "      <td>view</td>\n",
       "      <td>5733064</td>\n",
       "      <td>1487580004832248652</td>\n",
       "      <td>NaN</td>\n",
       "      <td>beautix</td>\n",
       "      <td>9.37</td>\n",
       "      <td>422196217</td>\n",
       "      <td>ab5e6dd5-8700-4ecc-a300-9f1eca5d1a95</td>\n",
       "    </tr>\n",
       "    <tr>\n",
       "      <th>4635834</th>\n",
       "      <td>2019-11-30 23:59:47 UTC</td>\n",
       "      <td>view</td>\n",
       "      <td>5867785</td>\n",
       "      <td>1487580007835370453</td>\n",
       "      <td>NaN</td>\n",
       "      <td>kims</td>\n",
       "      <td>31.10</td>\n",
       "      <td>572579084</td>\n",
       "      <td>d42865b7-7e04-4038-9be0-a59165625f06</td>\n",
       "    </tr>\n",
       "    <tr>\n",
       "      <th>4635835</th>\n",
       "      <td>2019-11-30 23:59:57 UTC</td>\n",
       "      <td>view</td>\n",
       "      <td>5779406</td>\n",
       "      <td>2151191071051219817</td>\n",
       "      <td>NaN</td>\n",
       "      <td>NaN</td>\n",
       "      <td>2.86</td>\n",
       "      <td>540006764</td>\n",
       "      <td>d4b5aa49-d731-40f1-92f1-277416d6e063</td>\n",
       "    </tr>\n",
       "    <tr>\n",
       "      <th>4635836</th>\n",
       "      <td>2019-11-30 23:59:58 UTC</td>\n",
       "      <td>view</td>\n",
       "      <td>5880201</td>\n",
       "      <td>2029731308699124089</td>\n",
       "      <td>NaN</td>\n",
       "      <td>rasyan</td>\n",
       "      <td>3.76</td>\n",
       "      <td>579969854</td>\n",
       "      <td>e9fa2c3e-8c9e-448c-880a-21ca57c18b3b</td>\n",
       "    </tr>\n",
       "  </tbody>\n",
       "</table>\n",
       "<p>4635837 rows × 9 columns</p>\n",
       "</div>"
      ],
      "text/plain": [
       "                      event_time  ...                          user_session\n",
       "0        2019-11-01 00:00:02 UTC  ...  09fafd6c-6c99-46b1-834f-33527f4de241\n",
       "1        2019-11-01 00:00:09 UTC  ...  2067216c-31b5-455d-a1cc-af0575a34ffb\n",
       "2        2019-11-01 00:00:10 UTC  ...  57ed222e-a54a-4907-9944-5a875c2d7f4f\n",
       "3        2019-11-01 00:00:11 UTC  ...  186c1951-8052-4b37-adce-dd9644b1d5f7\n",
       "4        2019-11-01 00:00:24 UTC  ...  2067216c-31b5-455d-a1cc-af0575a34ffb\n",
       "...                          ...  ...                                   ...\n",
       "4635832  2019-11-30 23:59:46 UTC  ...  ee50b160-a4db-4722-8751-6812c5b38295\n",
       "4635833  2019-11-30 23:59:47 UTC  ...  ab5e6dd5-8700-4ecc-a300-9f1eca5d1a95\n",
       "4635834  2019-11-30 23:59:47 UTC  ...  d42865b7-7e04-4038-9be0-a59165625f06\n",
       "4635835  2019-11-30 23:59:57 UTC  ...  d4b5aa49-d731-40f1-92f1-277416d6e063\n",
       "4635836  2019-11-30 23:59:58 UTC  ...  e9fa2c3e-8c9e-448c-880a-21ca57c18b3b\n",
       "\n",
       "[4635837 rows x 9 columns]"
      ]
     },
     "execution_count": 9,
     "metadata": {},
     "output_type": "execute_result"
    }
   ],
   "source": [
    "df"
   ]
  },
  {
   "cell_type": "code",
   "execution_count": 11,
   "id": "6d3f3b3b",
   "metadata": {},
   "outputs": [],
   "source": [
    "event_counts=df.event_type.value_counts()"
   ]
  },
  {
   "cell_type": "code",
   "execution_count": 13,
   "id": "6a6512a4",
   "metadata": {},
   "outputs": [
    {
     "data": {
      "text/plain": [
       "<AxesSubplot:>"
      ]
     },
     "execution_count": 13,
     "metadata": {},
     "output_type": "execute_result"
    },
    {
     "data": {
      "image/png": "[encoded data removed]",
      "text/plain": [
       "<Figure size 432x288 with 1 Axes>"
      ]
     },
     "metadata": {
      "needs_background": "light"
     },
     "output_type": "display_data"
    }
   ],
   "source": [
    "event_counts.plot(kind= 'bar')"
   ]
  },
  {
   "cell_type": "markdown",
   "id": "75ac6a4d",
   "metadata": {},
   "source": [
    "# (1-(no. of purchases/no. of carts created)) * 100"
   ]
  },
  {
   "cell_type": "code",
   "execution_count": 18,
   "id": "7aa6a16f",
   "metadata": {},
   "outputs": [
    {
     "data": {
      "text/plain": [
       "75.42191801080494"
      ]
     },
     "execution_count": 18,
     "metadata": {},
     "output_type": "execute_result"
    }
   ],
   "source": [
    "(1-(event_counts.purchase/event_counts.cart))*100"
   ]
  },
  {
   "cell_type": "code",
   "execution_count": 16,
   "id": "95df89ee",
   "metadata": {},
   "outputs": [
    {
     "data": {
      "text/plain": [
       "0.24578081989195058"
      ]
     },
     "execution_count": 16,
     "metadata": {},
     "output_type": "execute_result"
    }
   ],
   "source": [
    "event_counts.purchase/event_counts.cart"
   ]
  },
  {
   "cell_type": "code",
   "execution_count": 17,
   "id": "ffa54f95",
   "metadata": {},
   "outputs": [
    {
     "data": {
      "text/plain": [
       "-23.578081989195056"
      ]
     },
     "execution_count": 17,
     "metadata": {},
     "output_type": "execute_result"
    }
   ],
   "source": [
    "(event_counts.cart-event_counts.purchase*100)/event_counts.cart"
   ]
  },
  {
   "cell_type": "code",
   "execution_count": 30,
   "id": "e22f57aa",
   "metadata": {},
   "outputs": [
    {
     "data": {
      "text/html": [
       "<div>\n",
       "<style scoped>\n",
       "    .dataframe tbody tr th:only-of-type {\n",
       "        vertical-align: middle;\n",
       "    }\n",
       "\n",
       "    .dataframe tbody tr th {\n",
       "        vertical-align: top;\n",
       "    }\n",
       "\n",
       "    .dataframe thead th {\n",
       "        text-align: right;\n",
       "    }\n",
       "</style>\n",
       "<table border=\"1\" class=\"dataframe\">\n",
       "  <thead>\n",
       "    <tr style=\"text-align: right;\">\n",
       "      <th></th>\n",
       "      <th>event_time</th>\n",
       "      <th>event_type</th>\n",
       "      <th>product_id</th>\n",
       "      <th>category_id</th>\n",
       "      <th>category_code</th>\n",
       "      <th>brand</th>\n",
       "      <th>price</th>\n",
       "      <th>user_id</th>\n",
       "      <th>user_session</th>\n",
       "    </tr>\n",
       "  </thead>\n",
       "  <tbody>\n",
       "    <tr>\n",
       "      <th>18</th>\n",
       "      <td>2019-11-01 00:01:09 UTC</td>\n",
       "      <td>cart</td>\n",
       "      <td>4607</td>\n",
       "      <td>1487580010796548183</td>\n",
       "      <td>NaN</td>\n",
       "      <td>runail</td>\n",
       "      <td>0.38</td>\n",
       "      <td>553329724</td>\n",
       "      <td>2067216c-31b5-455d-a1cc-af0575a34ffb</td>\n",
       "    </tr>\n",
       "    <tr>\n",
       "      <th>20424</th>\n",
       "      <td>2019-11-01 07:40:57 UTC</td>\n",
       "      <td>purchase</td>\n",
       "      <td>4607</td>\n",
       "      <td>1487580010796548183</td>\n",
       "      <td>NaN</td>\n",
       "      <td>runail</td>\n",
       "      <td>0.38</td>\n",
       "      <td>553329724</td>\n",
       "      <td>69b84261-c592-4980-89ae-dcd7b761f51f</td>\n",
       "    </tr>\n",
       "  </tbody>\n",
       "</table>\n",
       "</div>"
      ],
      "text/plain": [
       "                    event_time  ...                          user_session\n",
       "18     2019-11-01 00:01:09 UTC  ...  2067216c-31b5-455d-a1cc-af0575a34ffb\n",
       "20424  2019-11-01 07:40:57 UTC  ...  69b84261-c592-4980-89ae-dcd7b761f51f\n",
       "\n",
       "[2 rows x 9 columns]"
      ]
     },
     "execution_count": 30,
     "metadata": {},
     "output_type": "execute_result"
    }
   ],
   "source": [
    "df[(df['user_id']== 553329724) & (df['product_id']==4607)]"
   ]
  },
  {
   "cell_type": "code",
   "execution_count": 26,
   "id": "18eb21e3",
   "metadata": {},
   "outputs": [],
   "source": [
    "added_to_cart=df[(df['user_id']== 553329724) & (df['event_type']=='cart')].product_id"
   ]
  },
  {
   "cell_type": "code",
   "execution_count": 27,
   "id": "90a8031e",
   "metadata": {},
   "outputs": [],
   "source": [
    "removed_from_cart=df[(df['user_id']== 553329724) & (df['event_type']=='remove_from_cart')].product_id"
   ]
  },
  {
   "cell_type": "code",
   "execution_count": 31,
   "id": "c557347a",
   "metadata": {},
   "outputs": [],
   "source": [
    "left_in_cart=added_to_cart[~added_to_cart.isin(removed_from_cart)]"
   ]
  },
  {
   "cell_type": "code",
   "execution_count": 32,
   "id": "9a868873",
   "metadata": {},
   "outputs": [],
   "source": [
    "purchased=df[(df['user_id']== 553329724) & (df['event_type']=='purchase')].product_id"
   ]
  },
  {
   "cell_type": "code",
   "execution_count": 33,
   "id": "c3b98b76",
   "metadata": {},
   "outputs": [
    {
     "data": {
      "text/plain": [
       "20416    5587760\n",
       "20417    5704997\n",
       "20418    5723264\n",
       "20419    5723270\n",
       "20420    5723464\n",
       "20421    5759469\n",
       "20422    5773606\n",
       "20423       4600\n",
       "20424       4607\n",
       "20425    5776515\n",
       "20426    5817690\n",
       "20427    5883779\n",
       "20428    5819634\n",
       "20429    5820745\n",
       "20430    5881332\n",
       "20431    5873653\n",
       "20432    5873646\n",
       "20433    5695951\n",
       "20434    5862575\n",
       "20435    5851621\n",
       "20436    5848910\n",
       "20437    5848901\n",
       "20438    5838938\n",
       "20439    5837619\n",
       "20440    5826813\n",
       "20441    5659754\n",
       "20442    5826179\n",
       "20443    5820756\n",
       "20444    5659747\n",
       "Name: product_id, dtype: int64"
      ]
     },
     "execution_count": 33,
     "metadata": {},
     "output_type": "execute_result"
    }
   ],
   "source": [
    "purchased"
   ]
  },
  {
   "cell_type": "code",
   "execution_count": 34,
   "id": "817c2222",
   "metadata": {},
   "outputs": [],
   "source": [
    "abondaned=left_in_cart[~left_in_cart.isin(purchased)]"
   ]
  },
  {
   "cell_type": "code",
   "execution_count": 35,
   "id": "2791e27c",
   "metadata": {},
   "outputs": [
    {
     "data": {
      "text/plain": [
       "61344    5846600\n",
       "Name: product_id, dtype: int64"
      ]
     },
     "execution_count": 35,
     "metadata": {},
     "output_type": "execute_result"
    }
   ],
   "source": [
    "abondaned"
   ]
  },
  {
   "cell_type": "code",
   "execution_count": 5,
   "id": "d47f203b",
   "metadata": {},
   "outputs": [],
   "source": [
    "cart = df[df['event_type']=='cart']"
   ]
  },
  {
   "cell_type": "code",
   "execution_count": 10,
   "id": "b5c50b3e",
   "metadata": {},
   "outputs": [
    {
     "data": {
      "text/html": [
       "<div>\n",
       "<style scoped>\n",
       "    .dataframe tbody tr th:only-of-type {\n",
       "        vertical-align: middle;\n",
       "    }\n",
       "\n",
       "    .dataframe tbody tr th {\n",
       "        vertical-align: top;\n",
       "    }\n",
       "\n",
       "    .dataframe thead th {\n",
       "        text-align: right;\n",
       "    }\n",
       "</style>\n",
       "<table border=\"1\" class=\"dataframe\">\n",
       "  <thead>\n",
       "    <tr style=\"text-align: right;\">\n",
       "      <th></th>\n",
       "      <th>price</th>\n",
       "      <th>category_id</th>\n",
       "    </tr>\n",
       "  </thead>\n",
       "  <tbody>\n",
       "    <tr>\n",
       "      <th>1</th>\n",
       "      <td>2.38</td>\n",
       "      <td>1487580006317032337</td>\n",
       "    </tr>\n",
       "    <tr>\n",
       "      <th>3</th>\n",
       "      <td>3.16</td>\n",
       "      <td>1487580010100293687</td>\n",
       "    </tr>\n",
       "    <tr>\n",
       "      <th>18</th>\n",
       "      <td>0.38</td>\n",
       "      <td>1487580010796548183</td>\n",
       "    </tr>\n",
       "    <tr>\n",
       "      <th>20</th>\n",
       "      <td>0.38</td>\n",
       "      <td>1487580010796548183</td>\n",
       "    </tr>\n",
       "    <tr>\n",
       "      <th>24</th>\n",
       "      <td>3.49</td>\n",
       "      <td>1933472286753424063</td>\n",
       "    </tr>\n",
       "    <tr>\n",
       "      <th>...</th>\n",
       "      <td>...</td>\n",
       "      <td>...</td>\n",
       "    </tr>\n",
       "    <tr>\n",
       "      <th>4635808</th>\n",
       "      <td>2.37</td>\n",
       "      <td>1487580005671109489</td>\n",
       "    </tr>\n",
       "    <tr>\n",
       "      <th>4635810</th>\n",
       "      <td>1.59</td>\n",
       "      <td>1487580007675986893</td>\n",
       "    </tr>\n",
       "    <tr>\n",
       "      <th>4635812</th>\n",
       "      <td>11.27</td>\n",
       "      <td>1487580008145748965</td>\n",
       "    </tr>\n",
       "    <tr>\n",
       "      <th>4635817</th>\n",
       "      <td>3.33</td>\n",
       "      <td>1487580006551913373</td>\n",
       "    </tr>\n",
       "    <tr>\n",
       "      <th>4635821</th>\n",
       "      <td>2.37</td>\n",
       "      <td>1487580005671109489</td>\n",
       "    </tr>\n",
       "  </tbody>\n",
       "</table>\n",
       "<p>1311807 rows × 2 columns</p>\n",
       "</div>"
      ],
      "text/plain": [
       "         price          category_id\n",
       "1         2.38  1487580006317032337\n",
       "3         3.16  1487580010100293687\n",
       "18        0.38  1487580010796548183\n",
       "20        0.38  1487580010796548183\n",
       "24        3.49  1933472286753424063\n",
       "...        ...                  ...\n",
       "4635808   2.37  1487580005671109489\n",
       "4635810   1.59  1487580007675986893\n",
       "4635812  11.27  1487580008145748965\n",
       "4635817   3.33  1487580006551913373\n",
       "4635821   2.37  1487580005671109489\n",
       "\n",
       "[1311807 rows x 2 columns]"
      ]
     },
     "execution_count": 10,
     "metadata": {},
     "output_type": "execute_result"
    }
   ],
   "source": [
    "cart[['price','category_id']]"
   ]
  },
  {
   "cell_type": "code",
   "execution_count": 11,
   "id": "5e1c39c8",
   "metadata": {},
   "outputs": [
    {
     "data": {
      "text/plain": [
       "527021202    11720\n",
       "550388516     4181\n",
       "500179293     3665\n",
       "552908674     3375\n",
       "467810091     2946\n",
       "             ...  \n",
       "571545314        1\n",
       "571545695        1\n",
       "571545691        1\n",
       "571545800        1\n",
       "579969854        1\n",
       "Name: user_id, Length: 368232, dtype: int64"
      ]
     },
     "execution_count": 11,
     "metadata": {},
     "output_type": "execute_result"
    }
   ],
   "source": [
    "df.user_id.value_counts()"
   ]
  },
  {
   "cell_type": "code",
   "execution_count": null,
   "id": "deaf9cfe",
   "metadata": {},
   "outputs": [],
   "source": []
  }
 ],
 "metadata": {
  "kernelspec": {
   "display_name": "Python 3 (ipykernel)",
   "language": "python",
   "name": "python3"
  },
  "language_info": {
   "codemirror_mode": {
    "name": "ipython",
    "version": 3
   },
   "file_extension": ".py",
   "mimetype": "text/x-python",
   "name": "python",
   "nbconvert_exporter": "python",
   "pygments_lexer": "ipython3",
   "version": "3.9.7"
  }
 },
 "nbformat": 4,
 "nbformat_minor": 5
}
